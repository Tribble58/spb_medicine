{
 "cells": [
  {
   "cell_type": "markdown",
   "metadata": {
    "id": "3yAmbnxvfunZ"
   },
   "source": [
    "# Hacks AI Прогноз спроса на лекарства"
   ]
  },
  {
   "cell_type": "markdown",
   "metadata": {
    "id": "payqKzi9f3Nm"
   },
   "source": [
    "## Импорт библиотек"
   ]
  },
  {
   "cell_type": "code",
   "execution_count": null,
   "metadata": {
    "id": "qgo2OEunctTh"
   },
   "outputs": [],
   "source": [
    "import numpy as np\n",
    "import pandas as pd\n",
    "import matplotlib.pyplot as plt\n",
    "import gc\n",
    "\n",
    "from sklearn import linear_model"
   ]
  },
  {
   "cell_type": "markdown",
   "metadata": {
    "id": "dfaH74UEIqRI"
   },
   "source": [
    "## Метрики и Лоссы"
   ]
  },
  {
   "cell_type": "code",
   "execution_count": null,
   "metadata": {
    "id": "cxkkg_epKNoY"
   },
   "outputs": [],
   "source": [
    "def sMdAPE(y_true, y_pred):\n",
    "\n",
    "    \"\"\"\n",
    "    Возвращает значение метрики sMdAPE\n",
    "\n",
    "    Parameters\n",
    "    ----------\n",
    "    y_true : np.array, вектор истинных значений\n",
    "    y_pred : np.array, вектор предсказанных значений\n",
    "    \"\"\"\n",
    "\n",
    "    difference = np.abs(y_true - y_pred)\n",
    "    sum = y_true + y_pred\n",
    "    values = difference/sum\n",
    "    median = np.median(values)\n",
    "    return median"
   ]
  },
  {
   "cell_type": "markdown",
   "metadata": {
    "id": "w4GazxSUf6_b"
   },
   "source": [
    "## Загрузка данных"
   ]
  },
  {
   "cell_type": "code",
   "execution_count": null,
   "metadata": {
    "colab": {
     "base_uri": "https://localhost:8080/"
    },
    "id": "xk2SGZOEdCnx",
    "outputId": "4b2c79ad-2cef-4af2-da0d-49773add6857"
   },
   "outputs": [
    {
     "name": "stderr",
     "output_type": "stream",
     "text": [
      "/usr/local/lib/python3.7/dist-packages/IPython/core/interactiveshell.py:2718: DtypeWarning: Columns (10,15) have mixed types.Specify dtype option on import or set low_memory=False.\n",
      "  interactivity=interactivity, compiler=compiler, result=result)\n"
     ]
    }
   ],
   "source": [
    "# данные (лекарства на складе)\n",
    "df = pd.read_csv('alldata.csv')"
   ]
  },
  {
   "cell_type": "code",
   "execution_count": null,
   "metadata": {
    "colab": {
     "base_uri": "https://localhost:8080/"
    },
    "id": "ilVfregvdTfY",
    "outputId": "1beef8a6-606e-4d89-ec24-05a5d0159053"
   },
   "outputs": [
    {
     "name": "stderr",
     "output_type": "stream",
     "text": [
      "/usr/local/lib/python3.7/dist-packages/IPython/core/interactiveshell.py:2718: DtypeWarning: Columns (0,5) have mixed types.Specify dtype option on import or set low_memory=False.\n",
      "  interactivity=interactivity, compiler=compiler, result=result)\n"
     ]
    }
   ],
   "source": [
    "# данные (лекарства реализованные)\n",
    "results = pd.read_csv('result.csv', sep='#')"
   ]
  },
  {
   "cell_type": "code",
   "execution_count": null,
   "metadata": {
    "id": "dWLx1oEPhytD"
   },
   "outputs": [],
   "source": [
    "# данные по ковиду (заражения)\n",
    "covid_data = pd.read_csv('covid_data.csv', sep=';')"
   ]
  },
  {
   "cell_type": "code",
   "execution_count": null,
   "metadata": {
    "id": "QGbAVdtTPkh7"
   },
   "outputs": [],
   "source": [
    "# погода + население и координаты\n",
    "weather = pd.read_csv('График температур_2021-11-13_10-10.csv', sep=';')\n",
    "coords = pd.read_csv('data.csv')"
   ]
  },
  {
   "cell_type": "markdown",
   "metadata": {
    "id": "i0fU-x29gAme"
   },
   "source": [
    "## DF - предобработка"
   ]
  },
  {
   "cell_type": "markdown",
   "metadata": {
    "id": "kIegPtikgFIi"
   },
   "source": [
    "Нужно смёрджить повторяющиеся колонки"
   ]
  },
  {
   "cell_type": "code",
   "execution_count": null,
   "metadata": {
    "id": "lDm430E4dZT2"
   },
   "outputs": [],
   "source": [
    "df['Код субъекта'].fillna(value = df['Код субъекта РФ'], inplace = True)\n",
    "df.drop('Код субъекта РФ',axis = 1, inplace = True)\n",
    "df['Субъект'].fillna(value = df['Наименование субъекта РФ'], inplace = True)\n",
    "df.drop('Наименование субъекта РФ',axis = 1, inplace = True)\n",
    "df['Масса/объем в первичной упаковке'].fillna(value = df['Масса/объем в первичной уп-ке'], inplace = True)\n",
    "df.drop('Масса/объем в первичной уп-ке',axis = 1, inplace = True)\n",
    "df['Количество'].fillna(value = df['Количество хранимой продукции (шт)'], inplace = True)\n",
    "df.drop('Количество хранимой продукции (шт)',axis = 1, inplace = True)\n",
    "\n",
    "df.drop(['Субъект', 'filename'], axis = 1, inplace = True)\n",
    "\n",
    "origin = {'Отечественное':1, 'Иностранное': 2}\n",
    "df['Происхождение'] = df['Происхождение'].map(origin)"
   ]
  },
  {
   "cell_type": "code",
   "execution_count": null,
   "metadata": {
    "id": "fV6oIhs3gWZw"
   },
   "outputs": [],
   "source": [
    "# выгрузим на диск\n",
    "df.to_csv('alldata_merged.csv')"
   ]
  },
  {
   "cell_type": "markdown",
   "metadata": {
    "id": "T8NdYIfKr3dX"
   },
   "source": [
    "## Results - предобработка"
   ]
  },
  {
   "cell_type": "markdown",
   "metadata": {
    "id": "9zp4cF4YnrHp"
   },
   "source": [
    "Нужно смёрджить повторяющиеся колонки"
   ]
  },
  {
   "cell_type": "code",
   "execution_count": null,
   "metadata": {
    "id": "bIQVtIYexOid"
   },
   "outputs": [],
   "source": [
    "results = results.iloc[:-1].drop(['year_', 'name'], axis = 1) # дропаем лишние строки\n",
    "results.columns = list(df.columns[:-1]) + list(results.columns[-4:]) # задаём единые названия атрибутов (как и в df)\n",
    "results['Месяц'] = results['Месяц'].astype('int')\n",
    "\n",
    "results['Количество первичной в потребительской упаковке'] = results['Количество первичной в потребительской упаковке'].apply( lambda x: np.nan if x == 'НЕ УКАЗАНО' else x)\n",
    "results['Количество первичной в потребительской упаковке'] = results['Количество первичной в потребительской упаковке'].astype('float32', errors = 'ignore')\n",
    "\n",
    "# меняем текстовые значения на численные\n",
    "d = {'Нет':0, 'Да': 1}\n",
    "\n",
    "results['ЖНЛП'] = results['ЖНЛП'].map(d)\n",
    "results['Ковид'] = results['Ковид'].map(d)"
   ]
  },
  {
   "cell_type": "markdown",
   "metadata": {
    "id": "vruEjZfxa9sM"
   },
   "source": [
    "## Merge results and df"
   ]
  },
  {
   "cell_type": "code",
   "execution_count": null,
   "metadata": {
    "id": "6UjX9QC5eLRY"
   },
   "outputs": [],
   "source": [
    "# делаем операцию LEFT JOIN df на results\n",
    "data_merged = pd.merge(results, df, how='left', on=['Месяц',\n",
    "                                                    'МНН',\n",
    "                                                    'Код субъекта',\n",
    "                                                    'Нормализованное наименование формы выпуска ЛП',\n",
    "                                                    'Нормализованное наименование дозировки ЛП',\n",
    "                                                    'Количество первичной в потребительской упаковке',\n",
    "                                                    'Масса/объем в первичной упаковке',\n",
    "                                                    'ЖНЛП',\n",
    "                                                    'Ковид',\n",
    "                                                    'Происхождение'\n",
    "                                                       ])"
   ]
  },
  {
   "cell_type": "code",
   "execution_count": null,
   "metadata": {
    "id": "ZsUFMATJe7eJ"
   },
   "outputs": [],
   "source": [
    "# полный совмещённый датасет (склад+релиз) - data_merged\n",
    "data_merged.to_csv('data_merged.csv')"
   ]
  },
  {
   "cell_type": "code",
   "execution_count": null,
   "metadata": {
    "id": "uNAWF4Bom6YQ"
   },
   "outputs": [],
   "source": [
    "# чистим память\n",
    "del results\n",
    "del df\n",
    "\n",
    "gc.collect()"
   ]
  },
  {
   "cell_type": "markdown",
   "metadata": {
    "id": "eMkIhzSbi13Q"
   },
   "source": [
    "## Merge covid_data"
   ]
  },
  {
   "cell_type": "code",
   "execution_count": null,
   "metadata": {
    "id": "s_nz-VQkpXZT"
   },
   "outputs": [],
   "source": [
    "# словарь соответствия регионов и их номеров\n",
    "dict_ = {'Адыгея': 1.0,\n",
    " 'Алтай': 4.0,\n",
    " 'Алтайский край': 22.0,\n",
    " 'Амурская обл.': 28.0,\n",
    " 'Архангельская обл.': 29.0,\n",
    " 'Астраханская обл.': 30.0,\n",
    " 'Башкортостан': 2.0,\n",
    " 'Белгородская обл.': 31.0,\n",
    " 'Брянская обл.': 32.0,\n",
    " 'Бурятия': 3.0,\n",
    " 'Владимирская обл.': 33.0,\n",
    " 'Волгоградская обл.': 34.0,\n",
    " 'Вологодская обл.': 35.0,\n",
    " 'Воронежская обл.': 36.0,\n",
    " 'Дагестан': 5.0,\n",
    " 'Еврейская АО': 79.0,\n",
    " 'Забайкальский край': 75.0,\n",
    " 'Ивановская обл.': 37.0,\n",
    " 'Ингушетия': 6.0,\n",
    " 'Иркутская обл.': 38.0,\n",
    " 'Кабардино-Балкария': 7.0,\n",
    " 'Калининградская обл.': 39.0,\n",
    " 'Калмыкия': 8.0,\n",
    " 'Калужская обл.': 40.0,\n",
    " 'Камчатский край': 41.0,\n",
    " 'Карачаево-Черкессия': 9.0,\n",
    " 'Карелия': 10.0,\n",
    " 'Кемеровская обл.': 42.0,\n",
    " 'Кировская обл.': 43.0,\n",
    " 'Коми': 11.0,\n",
    " 'Костромская обл.': 44.0,\n",
    " 'Краснодарский край': 23.0,\n",
    " 'Красноярский край': 24.0,\n",
    " 'Крым': 91.0,\n",
    " 'Курганская обл.': 45.0,\n",
    " 'Курская обл.': 46.0,\n",
    " 'Ленинградская обл.': 47.0,\n",
    " 'Липецкая обл.': 48.0,\n",
    " 'Магаданская обл.': 49.0,\n",
    " 'Марий Эл': 12.0,\n",
    " 'Мордовия': 13.0,\n",
    " 'Москва': 77.0,\n",
    " 'Московская обл.': 50.0,\n",
    " 'Мурманская обл.': 51.0,\n",
    " 'Ненецкий АО': 83.0,\n",
    " 'Нижегородская обл.': 52.0,\n",
    " 'Новгородская обл.': 53.0,\n",
    " 'Новосибирская обл.': 54.0,\n",
    " 'Омская обл.': 55.0,\n",
    " 'Оренбургская обл.': 56.0,\n",
    " 'Орловская обл.': 57.0,\n",
    " 'Пензенская обл.': 58.0,\n",
    " 'Пермский край': 59.0,\n",
    " 'Приморский край': 25.0,\n",
    " 'Псковская обл.': 60.0,\n",
    " 'Ростовская обл.': 61.0,\n",
    " 'Рязанская обл.': 62.0,\n",
    " 'Самарская обл.': 63.0,\n",
    " 'Санкт-Петербург': 78.0,\n",
    " 'Саратовская обл.': 64.0,\n",
    " 'Саха (Якутия)': 14.0,\n",
    " 'Сахалинская обл.': 65.0,\n",
    " 'Свердловская обл.': 66.0,\n",
    " 'Севастополь': 92.0,\n",
    " 'Северная Осетия': 15.0,\n",
    " 'Смоленская обл.': 67.0,\n",
    " 'Ставропольский край': 26.0,\n",
    " 'Тамбовская обл.': 68.0,\n",
    " 'Татарстан': 16.0,\n",
    " 'Тверская обл.': 69.0,\n",
    " 'Томская обл.': 70.0,\n",
    " 'Тульская обл.': 71.0,\n",
    " 'Тыва': 17.0,\n",
    " 'Тюменская обл.': 72.0,\n",
    " 'Удмуртия': 18.0,\n",
    " 'Ульяновская обл.': 73.0,\n",
    " 'ХМАО – Югра': 86.0,\n",
    " 'Хабаровский край': 27.0,\n",
    " 'Хакасия': 19.0,\n",
    " 'Челябинская обл.': 74.0,\n",
    " 'Чечня': 20.0,\n",
    " 'Чувашия': 21.0,\n",
    " 'Чукотский АО': 87.0,\n",
    " 'Ямало-Ненецкий АО': 89.0,\n",
    " 'Ярославская обл.': 76.0}"
   ]
  },
  {
   "cell_type": "code",
   "execution_count": null,
   "metadata": {
    "id": "sY-trOV7tEX-"
   },
   "outputs": [],
   "source": [
    "# предобработка загруженного набора данных (парсинг дат, замена названий регионов на номера)\n",
    "covid_data['day'] = covid_data['Дата'].map(lambda x: x.split('.')[0])\n",
    "covid_data['month'] = covid_data['Дата'].map(lambda x: x.split('.')[1])\n",
    "covid_data['year'] = covid_data['Дата'].map(lambda x: x.split('.')[2])\n",
    "\n",
    "covid_data['Регион'] = covid_data['Регион'].map(dict_)"
   ]
  },
  {
   "cell_type": "code",
   "execution_count": null,
   "metadata": {
    "id": "vOSEWn-6pvh2"
   },
   "outputs": [],
   "source": [
    "# аггрегирование по месяцам\n",
    "covid_yandex = pd.DataFrame([])\n",
    "for year in ['2020', '2021']:\n",
    "    for month in covid_data.month.unique():\n",
    "        temp = covid_data[(covid_data['year'] == year) & (covid_data['month'] == month)]\n",
    "        temp = temp.groupby('Регион').sum()[['Заражений за день', 'Смертей за день']]\n",
    "        temp_df = pd.DataFrame([])\n",
    "        temp_df['Регион'] = temp.index\n",
    "        temp_df['Заражений'] = temp['Заражений за день'].values\n",
    "        temp_df['Смертей'] = temp['Смертей за день'].values\n",
    "        temp_df['month'] = [month] * len(temp)\n",
    "        temp_df['year'] = [year] * len(temp)\n",
    "        covid_yandex = pd.concat([covid_yandex, temp_df], axis=0)"
   ]
  },
  {
   "cell_type": "code",
   "execution_count": null,
   "metadata": {
    "id": "kuiYzM-_xwFK"
   },
   "outputs": [],
   "source": [
    "# переопределение типа указателей дат\n",
    "covid_yandex['year'] = covid_yandex['year'].astype(int)\n",
    "covid_yandex['month'] = covid_yandex['month'].astype(int)"
   ]
  },
  {
   "cell_type": "code",
   "execution_count": null,
   "metadata": {
    "id": "YHQLIKdXyTdI"
   },
   "outputs": [],
   "source": [
    "# ковидная статистика - covid_yandex\n",
    "covid_yandex.to_csv('data_yandex_sumed.csv', index=False)"
   ]
  },
  {
   "cell_type": "code",
   "execution_count": null,
   "metadata": {
    "id": "L7-xMXxUiNp8"
   },
   "outputs": [],
   "source": [
    "# добавление в исходный набор данных атрибута \"Год\"\n",
    "data_merged['Год'] = [2021]*len(data_merged)\n",
    "data_merged.loc[(data_merged['Месяц']==1) | (data_merged['Месяц']==2), 'Год'] = 2020"
   ]
  },
  {
   "cell_type": "code",
   "execution_count": null,
   "metadata": {
    "id": "1RUptwqTjDpj"
   },
   "outputs": [],
   "source": [
    "# сдвиг дат на два месяца\n",
    "remonth = {-1: 11, 0: 12, 1: 1, 2: 2, 3: 3, 4: 4, 5: 5, 6: 6, 7: 7, 8: 8, 9: 9, 10: 10}\n",
    "\n",
    "data_merged['Мес_сдв'] = data_merged.Месяц.map(lambda x: x-2)\n",
    "data_merged.Мес_сдв = data_merged.Мес_сдв.map(remonth)"
   ]
  },
  {
   "cell_type": "code",
   "execution_count": null,
   "metadata": {
    "id": "b_EtaBHbkQVc"
   },
   "outputs": [],
   "source": [
    "# переопределение атрибутов в исходном датасете\n",
    "data_merged.columns = ['Месяц_old'] + list(data_merged.columns)[1:-1] + ['Месяц']"
   ]
  },
  {
   "cell_type": "code",
   "execution_count": null,
   "metadata": {
    "id": "Yo5vXX6G0AeK"
   },
   "outputs": [],
   "source": [
    "# переопределение атрибутов в датасете с ковидом\n",
    "covid_yandex.columns = ['Код субъекта', 'Заражений', 'Смертей', 'Месяц', 'Год']"
   ]
  },
  {
   "cell_type": "code",
   "execution_count": null,
   "metadata": {
    "id": "wUkNR5gszBD8"
   },
   "outputs": [],
   "source": [
    "# делаем операцию LEFT JOIN covid_yandex на data_merged\n",
    "data_covi = pd.merge(data_merged, covid_yandex, how='left', on=['Код субъекта',\n",
    "                                                                'Год',\n",
    "                                                                'Месяц'\n",
    "                                                                ])"
   ]
  },
  {
   "cell_type": "code",
   "execution_count": null,
   "metadata": {
    "id": "I45_i8ry1kcK"
   },
   "outputs": [],
   "source": [
    "# ковидная статистика + полный совмещённый датасет (склад+релиз) - data_covi\n",
    "data_covi.to_csv('data_covi.csv', index=False)"
   ]
  },
  {
   "cell_type": "code",
   "execution_count": null,
   "metadata": {
    "id": "zplgaKf0msq-"
   },
   "outputs": [],
   "source": [
    "# чистим память\n",
    "del data_merged\n",
    "del covid_yandex\n",
    "del covid_data\n",
    "\n",
    "gc.collect()"
   ]
  },
  {
   "cell_type": "markdown",
   "metadata": {
    "id": "-M6nIZ_0SVx0"
   },
   "source": [
    "## Merge weather"
   ]
  },
  {
   "cell_type": "code",
   "execution_count": null,
   "metadata": {
    "id": "oZqqyZf45y-k"
   },
   "outputs": [],
   "source": [
    "# предобработка загруженного набора данных (парсинг дат, дроп лишних атрибутов, переопределение атрибутов, \"цифровизация\" месяцев)\n",
    "weather['year'] = weather.DateTime.map(lambda x: x.split('-')[0])\n",
    "weather['month'] = weather.DateTime.map(lambda x: x.split('-')[1])\n",
    "\n",
    "weather.drop(columns=['DateTime', 'year'], inplace=True)\n",
    "weather.columns=list(weather.columns[:-1]) + ['Месяц']\n",
    "\n",
    "weather['Месяц'] = weather['Месяц'].map(lambda x: int(x))"
   ]
  },
  {
   "cell_type": "code",
   "execution_count": null,
   "metadata": {
    "id": "0nRAnQ3HWI3T"
   },
   "outputs": [],
   "source": [
    "# осреднение по месяцам\n",
    "weather = weather.groupby('Месяц').mean().reset_index()"
   ]
  },
  {
   "cell_type": "code",
   "execution_count": null,
   "metadata": {
    "id": "3dGs5UCBloQs"
   },
   "outputs": [],
   "source": [
    "# переопределение атрибутов\n",
    "weather.columns = ['Месяц_old'] + list(weather.columns)[1:]"
   ]
  },
  {
   "cell_type": "code",
   "execution_count": null,
   "metadata": {
    "id": "eyp7VGWvVMQ_"
   },
   "outputs": [],
   "source": [
    "# делаем операцию LEFT JOIN weather на data_covi\n",
    "data_cv_wt = pd.merge(data_covi, weather, how='left', on=['Месяц_old'])"
   ]
  },
  {
   "cell_type": "code",
   "execution_count": null,
   "metadata": {
    "id": "uhexJAuJVdj-"
   },
   "outputs": [],
   "source": [
    "# ковидная статистика + полный совмещённый датасет + погода\n",
    "data_cv_wt.to_csv('data_cv_wt.csv', index=False)"
   ]
  },
  {
   "cell_type": "code",
   "execution_count": null,
   "metadata": {
    "id": "MEShbAqemirM"
   },
   "outputs": [],
   "source": [
    "# чистим память\n",
    "del weather\n",
    "del data_covi\n",
    "\n",
    "gc.collect()"
   ]
  },
  {
   "cell_type": "markdown",
   "metadata": {
    "id": "rxbG_jBuW2RO"
   },
   "source": [
    "## Merge cities and population"
   ]
  },
  {
   "cell_type": "code",
   "execution_count": null,
   "metadata": {
    "id": "mvWV5wateMIL"
   },
   "outputs": [],
   "source": [
    "# выбор городов с наибольшим населением\n",
    "huge_popu = coords.loc[coords.type == 'г', ['region', 'settlement', 'population']].groupby(['region']).max().reset_index()\n",
    "huge_popu.drop(columns=['settlement'], inplace=True)\n",
    "\n",
    "# JOIN для корректного присоединения городов к выделенным значениям наибольшего населения\n",
    "huge_cities = pd.merge(huge_popu, coords[['region', 'settlement', 'population']], how='inner', on=['region', 'population'])\n",
    "huge_cities.drop(columns=['population'], inplace=True)\n",
    "\n",
    "# население суммарное по регионам\n",
    "reg_popu = coords[['region', 'population']].groupby('region').sum().reset_index()\n",
    "\n",
    "# JOIN самых густонаселённых городов и суммарного населения\n",
    "reg_city_popu = pd.merge(huge_cities, reg_popu, on='region')"
   ]
  },
  {
   "cell_type": "code",
   "execution_count": null,
   "metadata": {
    "id": "pEaET4psnZws"
   },
   "outputs": [],
   "source": [
    "# для Мск и СПб устанавливаем единую точку - район центральный\n",
    "coords[coords['region']=='Москва'] = coords.loc[(coords['region']=='Москва')&(coords.municipality=='Центральный')]\n",
    "coords[coords['region']=='Санкт-Петербург'] = coords.loc[(coords['region']=='Санкт-Петербург')&(coords.municipality=='Центральный')]"
   ]
  },
  {
   "cell_type": "code",
   "execution_count": null,
   "metadata": {
    "id": "q1KwIiuLpL9l"
   },
   "outputs": [],
   "source": [
    "# делаем выборку по городам их координатам\n",
    "coords_cities = coords.loc[coords.type=='г', ['region', 'settlement', 'latitude_dd', 'longitude_dd']]"
   ]
  },
  {
   "cell_type": "code",
   "execution_count": null,
   "metadata": {
    "id": "YCx8UM5Wkbgk"
   },
   "outputs": [],
   "source": [
    "# JOIN самых густонаселённых городов, суммарного населения в регионе и координат этого города\n",
    "reg_city_popu_coord = pd.merge(reg_city_popu, coords_cities, on=['region', 'settlement'])"
   ]
  },
  {
   "cell_type": "code",
   "execution_count": null,
   "metadata": {
    "id": "XdW_br-ToYNu"
   },
   "outputs": [],
   "source": [
    "# словарь наименование региона: код региона\n",
    "dict_regions = {'Республика Адыгея': 1.0,\n",
    " 'Республика Алтай': 4.0,\n",
    " 'Алтайский край': 22.0,\n",
    " 'Амурская область': 28.0,\n",
    " 'Архангельская область': 29.0,\n",
    " 'Астраханская область': 30.0,\n",
    " 'Республика Башкортостан': 2.0,\n",
    " 'Белгородская область': 31.0,\n",
    " 'Брянская область': 32.0,\n",
    " 'Республика Бурятия': 3.0,\n",
    " 'Владимирская область': 33.0,\n",
    " 'Волгоградская область': 34.0,\n",
    " 'Вологодская область': 35.0,\n",
    " 'Воронежская область': 36.0,\n",
    " 'Республика Дагестан': 5.0,\n",
    " 'Еврейская автономная область': 79.0,\n",
    " 'Забайкальский край': 75.0,\n",
    " 'Ивановская область': 37.0,\n",
    " 'Республика Ингушетия': 6.0,\n",
    " 'Иркутская область': 38.0,\n",
    " 'Кабардино-Балкарская республика': 7.0,\n",
    " 'Калининградская область': 39.0,\n",
    " 'Республика Калмыкия': 8.0,\n",
    " 'Калужская область': 40.0,\n",
    " 'Камчатский край': 41.0,\n",
    " 'Карачаево-Черкесская республика': 9.0,\n",
    " 'Республика Карелия': 10.0,\n",
    " 'Кемеровская область': 42.0,\n",
    " 'Кировская область': 43.0,\n",
    " 'Республика Коми': 11.0,\n",
    " 'Костромская область': 44.0,\n",
    " 'Краснодарский край': 23.0,\n",
    " 'Красноярский край': 24.0,\n",
    " 'Республика Крым': 91.0,\n",
    " 'Курганская область': 45.0,\n",
    " 'Курская область': 46.0,\n",
    " 'Ленинградская область': 47.0,\n",
    " 'Липецкая область': 48.0,\n",
    " 'Магаданская область': 49.0,\n",
    " 'Республика Марий Эл': 12.0,\n",
    " 'Республика Мордовия': 13.0,\n",
    " 'Москва': 77.0,\n",
    " 'Московская область': 50.0,\n",
    " 'Мурманская область': 51.0,\n",
    " 'Ненецкий автономный округ': 83.0,\n",
    " 'Нижегородская область': 52.0,\n",
    " 'Новгородская область': 53.0,\n",
    " 'Новосибирская область': 54.0,\n",
    " 'Омская область': 55.0,\n",
    " 'Оренбургская область': 56.0,\n",
    " 'Орловская область': 57.0,\n",
    " 'Пензенская область': 58.0,\n",
    " 'Пермский край': 59.0,\n",
    " 'Приморский край': 25.0,\n",
    " 'Псковская область': 60.0,\n",
    " 'Ростовская область': 61.0,\n",
    " 'Рязанская область': 62.0,\n",
    " 'Самарская область': 63.0,\n",
    " 'Санкт-Петербург': 78.0,\n",
    " 'Саратовская область': 64.0,\n",
    " 'Республика Саха (Якутия)': 14.0,\n",
    " 'Сахалинская область': 65.0,\n",
    " 'Свердловская область': 66.0,\n",
    " 'Севастополь': 92.0,\n",
    " 'Республика Северная Осетия - Алания': 15.0,\n",
    " 'Смоленская область': 67.0,\n",
    " 'Ставропольский край': 26.0,\n",
    " 'Тамбовская область': 68.0,\n",
    " 'Республика Татарстан': 16.0,\n",
    " 'Тверская область': 69.0,\n",
    " 'Томская область': 70.0,\n",
    " 'Тульская область': 71.0,\n",
    " 'Республика Тыва': 17.0,\n",
    " 'Тюменская область': 72.0,\n",
    " 'Удмуртская республика': 18.0,\n",
    " 'Ульяновская область': 73.0,\n",
    " 'Ханты-Мансийский автономный округ - Югра': 86.0,\n",
    " 'Хабаровский край': 27.0,\n",
    " 'Республика Хакасия': 19.0,\n",
    " 'Челябинская область': 74.0,\n",
    " 'Чеченская республика': 20.0,\n",
    " 'Чувашская республика': 21.0,\n",
    " 'Чукотский автономный округ': 87.0,\n",
    " 'Ямало-Ненецкий автономный округ': 89.0,\n",
    " 'Ярославская область': 76.0}"
   ]
  },
  {
   "cell_type": "code",
   "execution_count": null,
   "metadata": {
    "id": "ClSPBoF9sP9B"
   },
   "outputs": [],
   "source": [
    "# предобрабатываем датасет с регионами и координатами (названия заменяем на номера, дропаем пустые строки, переопределяем атриубуты)\n",
    "reg_city_popu_coord.region = reg_city_popu_coord.region.map(dict_regions)\n",
    "reg_city_popu_coord.dropna(inplace=True)\n",
    "reg_city_popu_coord.columns = ['Код субъекта']+list(reg_city_popu_coord.columns[1:])"
   ]
  },
  {
   "cell_type": "code",
   "execution_count": null,
   "metadata": {
    "id": "b_Q8-ZDZse-2"
   },
   "outputs": [],
   "source": [
    "# получаем финальный датасет: рлиз+склад+ковид+погода+координаты+население\n",
    "data_cv_wt_crd = pd.merge(data_cv_wt, reg_city_popu_coord, how='left', on=['Код субъекта'])"
   ]
  },
  {
   "cell_type": "code",
   "execution_count": null,
   "metadata": {
    "id": "nd5RP9LTsjfk"
   },
   "outputs": [],
   "source": [
    "# сохраняем финальный датасет\n",
    "data_cv_wt_crd.to_csv('data_cv_wt_crd.csv', index=False)"
   ]
  },
  {
   "cell_type": "code",
   "execution_count": null,
   "metadata": {
    "id": "XpCwbi9etH9h"
   },
   "outputs": [],
   "source": [
    "# чистим память\n",
    "del data_cv_wt\n",
    "del reg_city_popu_coord\n",
    "del reg_city_popu\n",
    "del coords_cities\n",
    "del coords\n",
    "del reg_popu\n",
    "del huge_cities\n",
    "del huge_popu\n",
    "\n",
    "gc.collect()"
   ]
  }
 ],
 "metadata": {
  "colab": {
   "collapsed_sections": [],
   "name": "Копия блокнота \"BestMedi_HACK_MinPromTorg.ipynb\"",
   "provenance": [],
   "toc_visible": true
  },
  "kernelspec": {
   "display_name": "Python 3",
   "language": "python",
   "name": "python3"
  },
  "language_info": {
   "codemirror_mode": {
    "name": "ipython",
    "version": 3
   },
   "file_extension": ".py",
   "mimetype": "text/x-python",
   "name": "python",
   "nbconvert_exporter": "python",
   "pygments_lexer": "ipython3",
   "version": "3.7.0"
  },
  "toc": {
   "base_numbering": 1,
   "nav_menu": {},
   "number_sections": true,
   "sideBar": true,
   "skip_h1_title": false,
   "title_cell": "Table of Contents",
   "title_sidebar": "Contents",
   "toc_cell": false,
   "toc_position": {},
   "toc_section_display": true,
   "toc_window_display": false
  }
 },
 "nbformat": 4,
 "nbformat_minor": 1
}
