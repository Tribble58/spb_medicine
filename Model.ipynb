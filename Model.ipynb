{
 "cells": [
  {
   "cell_type": "markdown",
   "id": "c4c3cf15",
   "metadata": {},
   "source": [
    "# Import"
   ]
  },
  {
   "cell_type": "code",
   "execution_count": 1,
   "id": "677537a7",
   "metadata": {},
   "outputs": [],
   "source": [
    "import pandas as pd\n",
    "import numpy as np\n",
    "import seaborn as sns\n",
    "import matplotlib.pyplot as plt\n",
    "\n",
    "import json\n",
    "\n",
    "from sklearn.linear_model import ElasticNet\n",
    "\n",
    "pd.set_option('display.float_format', lambda x: '%.3f' % x)\n",
    "sns.set_style('whitegrid')\n",
    "np.set_printoptions(suppress=True)\n",
    "\n",
    "import warnings\n",
    "warnings.filterwarnings('ignore')\n",
    "\n",
    "pd.set_option('display.max_rows', 500)\n",
    "pd.set_option('display.max_columns', 500)\n",
    "pd.set_option('display.width', 1000)\n",
    "\n",
    "## Метрика\n",
    "def sMdAPE(y_true, y_pred):\n",
    "    \"\"\"\n",
    "    Возвращает значение метрики sMdAPE\n",
    "\n",
    "    Parameters\n",
    "    ----------\n",
    "    y_true : np.array, вектор истинных значений\n",
    "    y_pred : np.array, вектор предсказанных значений\n",
    "    \"\"\"\n",
    "    difference = abs(y_true - y_pred)\n",
    "    sum_ = y_true + y_pred\n",
    "    values = difference/sum_\n",
    "    median = np.median(values)\n",
    "    return median"
   ]
  },
  {
   "cell_type": "markdown",
   "id": "7b4657e3",
   "metadata": {},
   "source": [
    "# Load"
   ]
  },
  {
   "cell_type": "code",
   "execution_count": 10,
   "id": "8ab25d4d",
   "metadata": {},
   "outputs": [],
   "source": [
    "covid_data = pd.read_csv('data_cv_wt_crd.csv')\n",
    "covid_dr = covid_data.dropna()\n",
    "\n",
    "covid = covid_dr[covid_dr.Ковид == 1]\n",
    "no_covid = covid_dr[covid_dr.Ковид == 0]"
   ]
  },
  {
   "cell_type": "markdown",
   "id": "eac13aaa",
   "metadata": {},
   "source": [
    "# Modeling"
   ]
  },
  {
   "cell_type": "code",
   "execution_count": 28,
   "id": "0b60dc2f",
   "metadata": {
    "scrolled": true
   },
   "outputs": [],
   "source": [
    "features = [\n",
    "    'Заражений',\n",
    "    'Максимальная температура, С',\n",
    "    'Средняя температура, С',\n",
    "    'Минимальная температура, С',\n",
    "    'population',\n",
    "    'latitude_dd',\n",
    "    'longitude_dd'\n",
    "]\n",
    "\n",
    "targets = ['max_3', 'min_3', 'avg_3', 'Count_3']\n",
    "\n",
    "# Отображение графиков спроса   \n",
    "def plot_ts(df, preds):\n",
    "    fig, ax_left = plt.subplots(figsize=(14, 6))\n",
    "    ax_right = ax_left.twinx()\n",
    "    ax_left.plot(df.Месяц, df['min_3'], label='min3')\n",
    "    ax_left.plot(df.Месяц, df['avg_3'], label='avg3')\n",
    "    ax_left.plot(df.Месяц, df['max_3'], label='max3')\n",
    "    ax_left.scatter([9, 10], preds, label='predicted', marker='x', color='green')\n",
    "    ax_right.plot(df.Месяц, df['Заражений'], label='Заболевания', color='red', linestyle='dashed')\n",
    "    ax_left.legend(loc='upper left')\n",
    "    ax_right.legend(loc='upper right')\n",
    "    ax_left.set_title([mnn, subj])\n",
    "    fig.tight_layout()\n",
    "\n",
    "# Функция модели линейной регресси\n",
    "def train_fit_lr(df, tg):\n",
    "    '''\n",
    "    df - подаваемый на вход тренировочный датасет\n",
    "    tg - целевая переменная, которую необходимо предсказать\n",
    "    '''\n",
    "    model = ElasticNet(l1_ratio=0)\n",
    "\n",
    "    x = df[features]\n",
    "    y = df[tg].values.reshape(-1, 1)\n",
    "    y = np.log(y)\n",
    "    \n",
    "    model.fit(x, y)\n",
    "    \n",
    "    return model\n",
    "\n",
    "# Предобработка сырых данных в тестовые\n",
    "def test_xy(df, tg):\n",
    "    '''\n",
    "    df - подаваемый на вход тестовый датасет\n",
    "    tg - целевая переменная, которую необходимо предсказать\n",
    "    '''\n",
    "    x_test = df[features]\n",
    "    y_test = df[tg].values.reshape(-1, 1)\n",
    "\n",
    "    return [x_test, y_test]\n",
    "\n",
    "\n",
    "mnn_preds = {}\n",
    "covid_dr = covid\n",
    "for mnn in covid_dr['МНН'].unique():\n",
    "    print(mnn)\n",
    "    subj_preds = {}\n",
    "    weights_dict = {}\n",
    "    temp = covid_dr[covid_dr['МНН'] == mnn]\n",
    "\n",
    "    for subj in temp['Код субъекта'].unique():\n",
    "        \n",
    "        weights_target_dict = {}\n",
    "        preds_target_dict = {}\n",
    "        \n",
    "        for target in targets:\n",
    "            \n",
    "            target_weights = []\n",
    "            preds_list = []\n",
    "\n",
    "            temp_mnn = covid_dr[(covid_dr['Код субъекта'] == subj) & (covid_dr['МНН'] == mnn)]\n",
    "            temp_mnn.sort_values(by='Месяц_old', inplace=True)\n",
    "            temp_gr = temp_mnn.groupby('Месяц_old').median().reset_index()\n",
    "\n",
    "            if ((9 not in temp_gr.Месяц_old.unique()) or (10 not in temp_gr.Месяц_old.unique())) or len(temp_gr.Месяц_old.unique()) < 3:\n",
    "                # зануление предсказаний в случаях отсутствия тестовых данных\n",
    "                preds = [0, 0]\n",
    "                target_weights = [0, 0]\n",
    "                continue\n",
    "                \n",
    "            train = temp_gr[(temp_gr.Месяц_old != 9) & (temp_gr.Месяц_old != 10)]\n",
    "            test = temp_gr[(temp_gr.Месяц_old == 9) | (temp_gr.Месяц_old == 10)]\n",
    "            \n",
    "            model = train_fit_lr(train, target)\n",
    "            preds = np.exp(model.predict(test_xy(test, target)[0])).tolist()   \n",
    "            \n",
    "            target_weights =[model.coef_.tolist(), model.intercept_[0]]\n",
    "            weights_target_dict[target] = target_weights\n",
    "            preds_target_dict[target] = preds\n",
    "                  \n",
    "        subj_preds[f'{subj}_preds'] = preds_target_dict\n",
    "        subj_preds[f'{subj}_weights'] = weights_target_dict\n",
    "    \n",
    "    mnn_preds[f'{mnn}'] = subj_preds"
   ]
  },
  {
   "cell_type": "markdown",
   "id": "4a8fd1de",
   "metadata": {},
   "source": [
    "# Import to JSON"
   ]
  },
  {
   "cell_type": "code",
   "execution_count": null,
   "id": "d13e3b6a",
   "metadata": {},
   "outputs": [],
   "source": [
    "with open('results.json', 'w', encoding='utf-8') as fp:\n",
    "    json.dump(mnn_preds, fp, ensure_ascii=False)"
   ]
  },
  {
   "cell_type": "code",
   "execution_count": null,
   "id": "8adfd1f0",
   "metadata": {},
   "outputs": [],
   "source": []
  }
 ],
 "metadata": {
  "kernelspec": {
   "display_name": "Python 3",
   "language": "python",
   "name": "python3"
  },
  "language_info": {
   "codemirror_mode": {
    "name": "ipython",
    "version": 3
   },
   "file_extension": ".py",
   "mimetype": "text/x-python",
   "name": "python",
   "nbconvert_exporter": "python",
   "pygments_lexer": "ipython3",
   "version": "3.7.0"
  },
  "toc": {
   "base_numbering": 1,
   "nav_menu": {},
   "number_sections": true,
   "sideBar": true,
   "skip_h1_title": false,
   "title_cell": "Table of Contents",
   "title_sidebar": "Contents",
   "toc_cell": false,
   "toc_position": {
    "height": "calc(100% - 180px)",
    "left": "10px",
    "top": "150px",
    "width": "165px"
   },
   "toc_section_display": true,
   "toc_window_display": true
  }
 },
 "nbformat": 4,
 "nbformat_minor": 5
}
